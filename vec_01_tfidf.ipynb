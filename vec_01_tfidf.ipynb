{
  "cells": [
    {
      "cell_type": "markdown",
      "source": [
        "# Term Frequency, Inverse Document Frequency\n",
        "\n",
        "Se nos ocurrio clasificar textos\n",
        "1. Viendo que palabras tenian (Bag of Words)\n",
        "2. Dandole más \"peso\" a las menos frecuentes (más relevantes?)\n",
        "\n",
        "Eso nos da un \"vector\" para cada documento con el \"peso\" de las palabras que incluye.\n",
        "\n",
        "https://scikit-learn.org/stable/modules/generated/sklearn.feature_extraction.text.TfidfVectorizer.html"
      ],
      "metadata": {
        "id": "t-1UNBzJAGa4"
      }
    },
    {
      "cell_type": "code",
      "execution_count": 2,
      "metadata": {
        "colab": {
          "base_uri": "https://localhost:8080/"
        },
        "id": "KOZSeZ2t8M7i",
        "outputId": "16f72186-7514-419e-e5eb-106687c73add"
      },
      "outputs": [
        {
          "output_type": "stream",
          "name": "stdout",
          "text": [
            "Requirement already satisfied: scikit-learn in /usr/local/lib/python3.10/dist-packages (1.3.2)\n",
            "Requirement already satisfied: numpy<2.0,>=1.17.3 in /usr/local/lib/python3.10/dist-packages (from scikit-learn) (1.26.4)\n",
            "Requirement already satisfied: scipy>=1.5.0 in /usr/local/lib/python3.10/dist-packages (from scikit-learn) (1.13.1)\n",
            "Requirement already satisfied: joblib>=1.1.1 in /usr/local/lib/python3.10/dist-packages (from scikit-learn) (1.4.2)\n",
            "Requirement already satisfied: threadpoolctl>=2.0.0 in /usr/local/lib/python3.10/dist-packages (from scikit-learn) (3.5.0)\n"
          ]
        }
      ],
      "source": [
        "!pip install scikit-learn"
      ]
    },
    {
      "cell_type": "code",
      "execution_count": 29,
      "metadata": {
        "colab": {
          "base_uri": "https://localhost:8080/"
        },
        "id": "5S4Ircomar27",
        "outputId": "7e345a44-ecc2-4270-f7f2-fcb43cd399d3"
      },
      "outputs": [
        {
          "output_type": "execute_result",
          "data": {
            "text/plain": [
              "['dog bites man',\n",
              " 'man bites dog',\n",
              " 'dog eats meat',\n",
              " 'man eats food',\n",
              " 'bike travels north',\n",
              " 'dog bites man, bites dog']"
            ]
          },
          "metadata": {},
          "execution_count": 29
        }
      ],
      "source": [
        "documents = [\n",
        "  \"Dog bites man.\",\n",
        "  \"Man bites dog.\",\n",
        "  \"Dog eats meat.\",\n",
        "  \"Man eats food.\",\n",
        "  \"bike travels north\",\n",
        "  \"Dog bites man, bites dog\",\n",
        "]\n",
        "\n",
        "processed_docs = [doc.lower().replace(\".\",\"\") for doc in documents]\n",
        "processed_docs"
      ]
    },
    {
      "cell_type": "code",
      "execution_count": 25,
      "metadata": {
        "id": "BRjyqt4Ba2zx"
      },
      "outputs": [],
      "source": [
        "from sklearn.feature_extraction.text import TfidfVectorizer\n",
        "\n",
        "tfidf = TfidfVectorizer()\n",
        "bow_rep_tfidf = tfidf.fit_transform(processed_docs)"
      ]
    },
    {
      "cell_type": "code",
      "source": [
        "words_in_vocab= tfidf.get_feature_names_out()\n",
        "words_idf= tfidf.idf_\n",
        "for (idx,w) in enumerate(words_in_vocab):\n",
        "  print(f\"{w}: {words_idf[idx]:.3f}\")"
      ],
      "metadata": {
        "id": "vEw2Oxo0-zx8",
        "outputId": "ebba9a83-88fd-42db-f601-2cc04bd36f2a",
        "colab": {
          "base_uri": "https://localhost:8080/"
        }
      },
      "execution_count": 27,
      "outputs": [
        {
          "output_type": "stream",
          "name": "stdout",
          "text": [
            "bike: 2.253\n",
            "bites: 1.560\n",
            "dog: 1.336\n",
            "eats: 1.847\n",
            "food: 2.253\n",
            "man: 1.336\n",
            "meat: 2.253\n",
            "north: 2.253\n",
            "then: 2.253\n",
            "travels: 2.253\n"
          ]
        }
      ]
    },
    {
      "cell_type": "code",
      "source": [
        "def print_text_weights(docs,weights):\n",
        "  print('\\t'.join(words_in_vocab))\n",
        "  for (idx,doc_vec) in enumerate(weights):\n",
        "    print('\\t'.join([f\"{w:.2f}\" for w in doc_vec])+'\\t'+docs[idx])\n",
        "\n",
        "print_text_weights(documents, bow_rep_tfidf.toarray())"
      ],
      "metadata": {
        "id": "jvX-7xRpA-zo",
        "outputId": "33affd65-9fef-462d-d891-ec81974d79e2",
        "colab": {
          "base_uri": "https://localhost:8080/"
        }
      },
      "execution_count": 32,
      "outputs": [
        {
          "output_type": "stream",
          "name": "stdout",
          "text": [
            "bike\tbites\tdog\teats\tfood\tman\tmeat\tnorth\tthen\ttravels\n",
            "0.00\t0.64\t0.55\t0.00\t0.00\t0.55\t0.00\t0.00\t0.00\t0.00\tDog bites man.\n",
            "0.00\t0.64\t0.55\t0.00\t0.00\t0.55\t0.00\t0.00\t0.00\t0.00\tMan bites dog.\n",
            "0.00\t0.00\t0.42\t0.58\t0.00\t0.00\t0.70\t0.00\t0.00\t0.00\tDog eats meat.\n",
            "0.00\t0.00\t0.00\t0.58\t0.70\t0.42\t0.00\t0.00\t0.00\t0.00\tMan eats food.\n",
            "0.58\t0.00\t0.00\t0.00\t0.00\t0.00\t0.00\t0.58\t0.00\t0.58\tbike travels north\n",
            "0.00\t0.64\t0.55\t0.00\t0.00\t0.27\t0.00\t0.00\t0.46\t0.00\tDog bites man, bites dog\n"
          ]
        }
      ]
    },
    {
      "cell_type": "markdown",
      "source": [],
      "metadata": {
        "id": "ro7Q_jTuCnaf"
      }
    },
    {
      "cell_type": "code",
      "source": [
        "test_docs= [\n",
        "    \"dog and man are friends\"\n",
        "]\n",
        "test_weights = tfidf.transform(test_docs)\n",
        "print_text_weights(test_docs, test_weights.toarray())"
      ],
      "metadata": {
        "id": "4U7mD3yGCoQa",
        "outputId": "15fab15a-a503-404e-9a43-7dba1dc38b92",
        "colab": {
          "base_uri": "https://localhost:8080/"
        }
      },
      "execution_count": 36,
      "outputs": [
        {
          "output_type": "stream",
          "name": "stdout",
          "text": [
            "bike\tbites\tdog\teats\tfood\tman\tmeat\tnorth\tthen\ttravels\n",
            "0.00\t0.00\t0.71\t0.00\t0.00\t0.71\t0.00\t0.00\t0.00\t0.00\tdog and man are friends\n"
          ]
        }
      ]
    },
    {
      "cell_type": "markdown",
      "source": [],
      "metadata": {
        "id": "_SiQB-xaClKF"
      }
    }
  ],
  "metadata": {
    "colab": {
      "name": "TF-IDF.ipynb",
      "provenance": []
    },
    "kernelspec": {
      "display_name": "Python 3",
      "language": "python",
      "name": "python3"
    },
    "language_info": {
      "codemirror_mode": {
        "name": "ipython",
        "version": 3
      },
      "file_extension": ".py",
      "mimetype": "text/x-python",
      "name": "python",
      "nbconvert_exporter": "python",
      "pygments_lexer": "ipython3",
      "version": "3.6.13"
    }
  },
  "nbformat": 4,
  "nbformat_minor": 0
}